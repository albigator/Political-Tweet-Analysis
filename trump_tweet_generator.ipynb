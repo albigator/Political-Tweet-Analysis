{
 "cells": [
  {
   "cell_type": "code",
   "execution_count": 1,
   "metadata": {},
   "outputs": [],
   "source": [
    "import pandas\n",
    "import matplotlib.pyplot as plt\n",
    "import numpy as np\n",
    "from nltk.tokenize import TweetTokenizer\n",
    "trump_dat = pandas.read_json('./trumptweets.json')"
   ]
  },
  {
   "cell_type": "code",
   "execution_count": 2,
   "metadata": {},
   "outputs": [],
   "source": [
    "tweets = trump_dat['text']\n",
    "\n",
    "tknzr = TweetTokenizer()\n",
    "word_dict = {}\n",
    "start_list = {}\n",
    "for i in range(len(tweets)):\n",
    "    words = tknzr.tokenize(tweets[i])\n",
    "    words.append('eot')\n",
    "    if words[1] not in start_list: # dictionary for starting words\n",
    "        start_list[words[1]] = 1\n",
    "    else:\n",
    "        start_list[words[1]] += 1\n",
    "    for j in range(len(words)-1):\n",
    "        w1 = words[j]\n",
    "        w2 = words[j+1]\n",
    "        if w1 not in word_dict:\n",
    "            word_dict[w1] = {w2:1}\n",
    "        else:\n",
    "            if w2 not in word_dict[w1]:\n",
    "                word_dict[w1][w2] = 1\n",
    "            else:\n",
    "                word_dict[w1][w2] += 1\n",
    "\n",
    "                \n",
    "start = []\n",
    "p_start = []\n",
    "for x, y in start_list.items():\n",
    "    start.append(x)\n",
    "    p_start.append(y)\n",
    "p_start = list(p_start/np.sum(p_start))"
   ]
  },
  {
   "cell_type": "code",
   "execution_count": 3,
   "metadata": {},
   "outputs": [],
   "source": [
    "def gen_tweet(start,p_start,word_dict):\n",
    "    flag = 1\n",
    "    while flag:\n",
    "        try:\n",
    "            tweet = np.random.choice(start,p=p_start).capitalize()\n",
    "            temp = tweet\n",
    "            while temp!='eot':\n",
    "                pairs = word_dict[temp].items()\n",
    "                p_next = []\n",
    "                next_word = []\n",
    "                for x,y in pairs:\n",
    "                    next_word.append(x)\n",
    "                    p_next.append(y)\n",
    "                p_next = list(p_next/np.sum(p_next))\n",
    "                temp = np.random.choice(next_word,p=p_next)\n",
    "                if temp in '''%'’,;.!?''':\n",
    "                    tweet += temp\n",
    "                elif tweet[-1] in '.!?':\n",
    "                    tweet += ' ' + temp.capitalize()\n",
    "                else:\n",
    "                    tweet += ' ' + temp\n",
    "        except:\n",
    "            flag = 1\n",
    "        if len(tweet) <= 255:\n",
    "            flag = 0\n",
    "    return(tweet[:-4])"
   ]
  },
  {
   "cell_type": "code",
   "execution_count": 4,
   "metadata": {},
   "outputs": [
    {
     "name": "stdout",
     "output_type": "stream",
     "text": [
      "Trump tweet 1:\n",
      "Jim Mattis did ... Used this rally that?\n",
      "\n",
      "\n",
      "Trump tweet 2:\n",
      "#trump\n",
      "\n",
      "\n",
      "Trump tweet 3:\n",
      "Is he sought dirt on Border. Https://t.co/samljsz1nt\n",
      "\n",
      "\n",
      "Trump tweet 4:\n",
      "Claims' s official Bruce Ohr, Florida.\n",
      "\n",
      "\n",
      "Trump tweet 5:\n",
      "You can continue to Kelly said NO, even got fired from the families, co-signed loan. \" - GREAT AGAIN! Let these college graduates want to serve us today’ s failed Th …\n",
      "\n",
      "\n"
     ]
    }
   ],
   "source": [
    "for i in range(5):\n",
    "    print('Trump tweet %d:' % (i+1))\n",
    "    print(gen_tweet(start,p_start,word_dict))\n",
    "    print('\\n')"
   ]
  },
  {
   "cell_type": "code",
   "execution_count": 5,
   "metadata": {},
   "outputs": [],
   "source": [
    "trials = 10000\n",
    "n_words = np.zeros((trials,1))\n",
    "n_char = np.zeros((trials,1))\n",
    "for i in range(trials):\n",
    "    tweet = gen_tweet(start,p_start,word_dict)\n",
    "    n_words[i] = len(tweet.split())\n",
    "    n_char[i] = len(tweet)"
   ]
  },
  {
   "cell_type": "code",
   "execution_count": 6,
   "metadata": {},
   "outputs": [
    {
     "name": "stdout",
     "output_type": "stream",
     "text": [
      "mean words per tweet = 13 \n",
      " std = 12\n",
      "mean characters per tweet = 79 \n",
      " std = 71\n"
     ]
    },
    {
     "data": {
      "image/png": "[encoded data removed]",
      "text/plain": [
       "<Figure size 432x288 with 1 Axes>"
      ]
     },
     "metadata": {
      "needs_background": "light"
     },
     "output_type": "display_data"
    },
    {
     "data": {
      "image/png": "[encoded data removed]",
      "text/plain": [
       "<Figure size 432x288 with 1 Axes>"
      ]
     },
     "metadata": {
      "needs_background": "light"
     },
     "output_type": "display_data"
    }
   ],
   "source": [
    "print('mean words per tweet = %.0f \\n std = %.0f' % (np.mean(n_words),np.std(n_words)))\n",
    "print('mean characters per tweet = %.0f \\n std = %.0f' % (np.mean(n_char),np.std(n_char)))\n",
    "plt.hist(n_words,bins=range(1,60,1))\n",
    "plt.title('Distribution of Words per tweet')\n",
    "plt.ylabel('Tweet Count')\n",
    "plt.xlabel('Number of Words')\n",
    "plt.show()\n",
    "plt.hist(n_char,bins=range(0,255,5))\n",
    "plt.title('Distribution of characters per tweet')\n",
    "plt.ylabel('Tweet Count')\n",
    "plt.xlabel('Number of Characters')\n",
    "plt.show()"
   ]
  },
  {
   "cell_type": "code",
   "execution_count": null,
   "metadata": {},
   "outputs": [],
   "source": []
  }
 ],
 "metadata": {
  "kernelspec": {
   "display_name": "Python 3",
   "language": "python",
   "name": "python3"
  },
  "language_info": {
   "codemirror_mode": {
    "name": "ipython",
    "version": 3
   },
   "file_extension": ".py",
   "mimetype": "text/x-python",
   "name": "python",
   "nbconvert_exporter": "python",
   "pygments_lexer": "ipython3",
   "version": "3.7.4"
  }
 },
 "nbformat": 4,
 "nbformat_minor": 2
}
