{
 "cells": [
  {
   "cell_type": "code",
   "execution_count": 63,
   "metadata": {},
   "outputs": [],
   "source": [
    "import os.path\n",
    "from random import sample \n",
    "import pandas as pd \n",
    "\n",
    "save_path_demTrain = 'C:/Users/aktan/Downloads/PoliticsDataset/train/DemocratTrain'\n",
    "save_path_repTrain = 'C:/Users/aktan/Downloads/PoliticsDataset/train/RepublicanTrain'\n",
    "save_path_demTest = 'C:/Users/aktan/Downloads/PoliticsDataset/test/DemocratTest'\n",
    "save_path_repTest = 'C:/Users/aktan/Downloads/PoliticsDataset/test/RepublicanTest'\n",
    "\n",
    "data = pd.read_csv(\"ExtractedTweets.csv\") \n",
    "data.head()\n",
    "\n",
    "#indices of each set\n",
    "demIndices=sample(list(range(0,42067+1)),20000) #panda rows 0 to 9, excel 2 to 11, 2:42069, 0:42067\n",
    "repIndices=sample(list(range(42068,86459+1)),20000) #panda rows 10 to 19, excel 12 to 21, excel 42070:86461, 42068:86459\n",
    "demTrainIndices=demIndices[0:10000]\n",
    "demTestIndices= demIndices[10000:20000]\n",
    "repTrainIndices= repIndices[0:10000]\n",
    "repTestIndices=repIndices[10000:20000]\n",
    "\n",
    "\n",
    "#print(\"demTrain\", demTrainIndices,\"repTrain\", repTrainIndices, \"demTest\", demTestIndices, \"rep test\", repTestIndices)\n",
    "\n",
    "# pandas list for each train/test dataset\n",
    "tweetDemTrain= data.loc[demTrainIndices,'Tweet']\n",
    "tweetRepTrain= data.loc[repTrainIndices, 'Tweet']\n",
    "tweetDemTest= data.loc[demTestIndices,'Tweet']\n",
    "tweetRepTest= data.loc[repTestIndices, 'Tweet']\n",
    "\n",
    "# regular python list for each train/test dataset\n",
    "listDemTrain=tweetDemTrain.tolist()\n",
    "listDemTest=tweetDemTest.tolist()\n",
    "listRepTrain=tweetRepTrain.tolist()\n",
    "listRepTest=tweetRepTest.tolist()\n",
    "\n",
    "#democrat Train    \n",
    "for row in range(0, len(listDemTrain)):\n",
    "    third_col= listDemTrain[row]\n",
    "    #print(third_col)\n",
    "    name_of_file = 't' + str(demTrainIndices[row])\n",
    "    #print(name_of_file)\n",
    "    completeName = os.path.join(save_path_demTrain, name_of_file+\".txt\")         \n",
    "    file1 = open(completeName, \"wb\")\n",
    "    toFile = third_col\n",
    "    file1.write(toFile.encode(\"utf-8\"))\n",
    "    file1.close()\n",
    "    \n",
    "    #republican Train\n",
    "for row in range(0, len(listRepTrain)):\n",
    "    third_col= listRepTrain[row]\n",
    "    #print(third_col)\n",
    "    name_of_file = 't' + str(repTrainIndices[row])\n",
    "    #print(name_of_file)\n",
    "    completeName = os.path.join(save_path_repTrain, name_of_file+\".txt\")         \n",
    "    file1 = open(completeName, \"wb\")\n",
    "    toFile = third_col\n",
    "    file1.write(toFile.encode(\"utf-8\"))\n",
    "    file1.close()\n",
    "    \n",
    "    \n",
    "    #democrat Test    \n",
    "\n",
    "for row in range(0, len(listDemTest)):\n",
    "    third_col= listDemTest[row]\n",
    "    #print(third_col)\n",
    "    name_of_file = 't' + str(demTestIndices[row])\n",
    "    #print(name_of_file)\n",
    "    completeName = os.path.join(save_path_demTest, name_of_file+\".txt\")         \n",
    "    file1 = open(completeName, \"wb\")\n",
    "    toFile = third_col\n",
    "    file1.write(toFile.encode(\"utf-8\"))\n",
    "    file1.close()\n",
    "    \n",
    "        #republican Test\n",
    "\n",
    "for row in range(0, len(listRepTest)):\n",
    "    third_col= listRepTest[row]\n",
    "    #print(third_col)\n",
    "    name_of_file = 't' + str(repTestIndices[row])\n",
    "    #print(name_of_file)\n",
    "    completeName = os.path.join(save_path_repTest, name_of_file+\".txt\")         \n",
    "    file1 = open(completeName, \"wb\")\n",
    "    toFile = third_col\n",
    "    file1.write(toFile.encode(\"utf-8\"))\n",
    "    file1.close()\n"
   ]
  },
  {
   "cell_type": "code",
   "execution_count": 64,
   "metadata": {},
   "outputs": [
    {
     "name": "stdout",
     "output_type": "stream",
     "text": [
      "Number of documents in train data: 20000\n",
      "Samples per class (train): [10000 10000]\n",
      "Number of documents in test data: 20000\n",
      "Samples per class (test): [10000 10000]\n"
     ]
    }
   ],
   "source": [
    "from sklearn.feature_extraction.text import CountVectorizer\n",
    "from sklearn.linear_model import LogisticRegression\n",
    "from sklearn.datasets import load_files\n",
    "from sklearn.model_selection import GridSearchCV\n",
    "import numpy as np\n",
    "import matplotlib.pyplot as plt\n",
    "    \n",
    "reviews_train = load_files(\"PoliticsDataset/train/\")\n",
    "text_train, y_train = reviews_train.data, reviews_train.target\n",
    "        \n",
    "print(\"Number of documents in train data: {}\".format(len(text_train)))\n",
    "print(\"Samples per class (train): {}\".format(np.bincount(y_train)))\n",
    "\n",
    "reviews_test = load_files(\"PoliticsDataset/test/\")\n",
    "text_test, y_test = reviews_test.data, reviews_test.target\n",
    "\n",
    "print(\"Number of documents in test data: {}\".format(len(text_test)))\n",
    "print(\"Samples per class (test): {}\".format(np.bincount(y_test)))\n"
   ]
  },
  {
   "cell_type": "code",
   "execution_count": 65,
   "metadata": {},
   "outputs": [
    {
     "name": "stdout",
     "output_type": "stream",
     "text": [
      "Vocabulary size: 9163\n",
      "X_train:\n",
      "<20000x9163 sparse matrix of type '<class 'numpy.int64'>'\n",
      "\twith 156607 stored elements in Compressed Sparse Row format>\n",
      "X_test: \n",
      "<20000x9163 sparse matrix of type '<class 'numpy.int64'>'\n",
      "\twith 147140 stored elements in Compressed Sparse Row format>\n",
      "Number of features: 9163\n",
      "Best cross-validation score: 0.67\n",
      "Best parameters:  {'C': 1}\n",
      "Best estimator:  LogisticRegression(C=1, class_weight=None, dual=False, fit_intercept=True,\n",
      "          intercept_scaling=1, max_iter=100, multi_class='ovr', n_jobs=1,\n",
      "          penalty='l2', random_state=None, solver='liblinear', tol=0.0001,\n",
      "          verbose=0, warm_start=False)\n",
      "Score: 0.66\n"
     ]
    }
   ],
   "source": [
    "vect = CountVectorizer(min_df=5, ngram_range=(2, 2))\n",
    "X_train = vect.fit(text_train).transform(text_train)\n",
    "X_test = vect.transform(text_test)\n",
    "\n",
    "print(\"Vocabulary size: {}\".format(len(vect.vocabulary_)))\n",
    "print(\"X_train:\\n{}\".format(repr(X_train)))\n",
    "print(\"X_test: \\n{}\".format(repr(X_test)))\n",
    "\n",
    "feature_names = vect.get_feature_names()\n",
    "print(\"Number of features: {}\".format(len(feature_names)))\n",
    "\n",
    "param_grid = {'C': [0.001, 0.01, 0.1, 1, 10]}\n",
    "grid = GridSearchCV(LogisticRegression(), param_grid, cv=5)\n",
    "grid.fit(X_train, y_train)\n",
    "\n",
    "print(\"Best cross-validation score: {:.2f}\".format(grid.best_score_))\n",
    "print(\"Best parameters: \", grid.best_params_)\n",
    "print(\"Best estimator: \", grid.best_estimator_)\n",
    "\n",
    "plt.show()\n",
    "\n",
    "lr = grid.best_estimator_\n",
    "\n",
    "lr.predict(X_test)\n",
    "print(\"Score: {:.2f}\".format(lr.score(X_test, y_test)))"
   ]
  },
  {
   "cell_type": "code",
   "execution_count": 80,
   "metadata": {},
   "outputs": [
    {
     "name": "stdout",
     "output_type": "stream",
     "text": [
      "trump prediction: [1]\n"
     ]
    }
   ],
   "source": [
    "    trump = [\"And the likes to come out of consequence! #maga #AmericaFirst #RNCinCLE https://t.co/bdox6JcrAp\"]\n",
    "print(\"trump prediction: {}\". format(lr.predict(vect.transform(trump))))"
   ]
  },
  {
   "cell_type": "code",
   "execution_count": null,
   "metadata": {
    "collapsed": true
   },
   "outputs": [],
   "source": []
  }
 ],
 "metadata": {
  "kernelspec": {
   "display_name": "Python 3",
   "language": "python",
   "name": "python3"
  },
  "language_info": {
   "codemirror_mode": {
    "name": "ipython",
    "version": 3
   },
   "file_extension": ".py",
   "mimetype": "text/x-python",
   "name": "python",
   "nbconvert_exporter": "python",
   "pygments_lexer": "ipython3",
   "version": "3.6.2"
  }
 },
 "nbformat": 4,
 "nbformat_minor": 2
}
